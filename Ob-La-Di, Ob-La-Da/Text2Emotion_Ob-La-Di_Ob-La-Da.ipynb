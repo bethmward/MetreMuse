{
 "cells": [
  {
   "cell_type": "code",
   "execution_count": 1,
   "metadata": {},
   "outputs": [
    {
     "name": "stderr",
     "output_type": "stream",
     "text": [
      "[nltk_data] Downloading package stopwords to\n",
      "[nltk_data]     C:\\Users\\bward\\AppData\\Roaming\\nltk_data...\n",
      "[nltk_data]   Package stopwords is already up-to-date!\n",
      "[nltk_data] Downloading package punkt to\n",
      "[nltk_data]     C:\\Users\\bward\\AppData\\Roaming\\nltk_data...\n",
      "[nltk_data]   Package punkt is already up-to-date!\n",
      "[nltk_data] Downloading package wordnet to\n",
      "[nltk_data]     C:\\Users\\bward\\AppData\\Roaming\\nltk_data...\n",
      "[nltk_data]   Package wordnet is already up-to-date!\n"
     ]
    }
   ],
   "source": [
    "import pandas as pd\n",
    "import numpy as np\n",
    "import matplotlib.pyplot as plt\n",
    "import text2emotion as te"
   ]
  },
  {
   "cell_type": "code",
   "execution_count": 2,
   "metadata": {},
   "outputs": [
    {
     "name": "stdout",
     "output_type": "stream",
     "text": [
      "Desmond has a barrow in the marketplace\n",
      " {'Happy': 0, 'Angry': 0, 'Surprise': 0, 'Sad': 0, 'Fear': 0}\n",
      " Neutral\n",
      "Molly is the singer in a band\n",
      " {'Happy': 0.0, 'Angry': 0.0, 'Surprise': 0.0, 'Sad': 0.0, 'Fear': 1.0}\n",
      " Fear\n",
      "Desmond says to Molly, \"Girl, I like your face\"\n",
      " {'Happy': 0.0, 'Angry': 0.0, 'Surprise': 1.0, 'Sad': 0.0, 'Fear': 0.0}\n",
      " Surprise\n",
      "And Molly says this as she takes him by the hand\n",
      " {'Happy': 0.0, 'Angry': 0.0, 'Surprise': 1.0, 'Sad': 0.0, 'Fear': 0.0}\n",
      " Surprise\n",
      "Ob-la-di, ob-la-da\n",
      " {'Happy': 0, 'Angry': 0, 'Surprise': 0, 'Sad': 0, 'Fear': 0}\n",
      " Neutral\n",
      "Life goes on, bra\n",
      " {'Happy': 0.0, 'Angry': 0.0, 'Surprise': 0.0, 'Sad': 0.0, 'Fear': 1.0}\n",
      " Fear\n",
      "La-la, how the life goes on\n",
      " {'Happy': 0.0, 'Angry': 0.0, 'Surprise': 0.0, 'Sad': 0.0, 'Fear': 1.0}\n",
      " Fear\n",
      "Ob-la-di, ob-la-da\n",
      " {'Happy': 0, 'Angry': 0, 'Surprise': 0, 'Sad': 0, 'Fear': 0}\n",
      " Neutral\n",
      "Life goes on, bra\n",
      " {'Happy': 0.0, 'Angry': 0.0, 'Surprise': 0.0, 'Sad': 0.0, 'Fear': 1.0}\n",
      " Fear\n",
      "La-la, how the life goes on\n",
      " {'Happy': 0.0, 'Angry': 0.0, 'Surprise': 0.0, 'Sad': 0.0, 'Fear': 1.0}\n",
      " Fear\n",
      "Desmond takes a trolley to the jeweler's store\n",
      " {'Happy': 0.0, 'Angry': 0.0, 'Surprise': 1.0, 'Sad': 0.0, 'Fear': 0.0}\n",
      " Surprise\n",
      "Buys a twenty carat golden ring (rin-ring)\n",
      " {'Happy': 0, 'Angry': 0, 'Surprise': 0, 'Sad': 0, 'Fear': 0}\n",
      " Neutral\n",
      "Takes it back to Molly waiting at the door\n",
      " {'Happy': 0.0, 'Angry': 0.0, 'Surprise': 1.0, 'Sad': 0.0, 'Fear': 0.0}\n",
      " Surprise\n",
      "And as he gives it to her she begins to sing (sing)\n",
      " {'Happy': 0.0, 'Angry': 0.0, 'Surprise': 0.0, 'Sad': 0.0, 'Fear': 1.0}\n",
      " Fear\n",
      "Ob-la-di, ob-la-da (la-la-la-la la-la-)\n",
      " {'Happy': 0, 'Angry': 0, 'Surprise': 0, 'Sad': 0, 'Fear': 0}\n",
      " Neutral\n",
      "Life goes on, bra (la-la la-la-la-laaa)\n",
      " {'Happy': 0.0, 'Angry': 0.0, 'Surprise': 0.0, 'Sad': 0.0, 'Fear': 1.0}\n",
      " Fear\n",
      "La-la, how the life goes on\n",
      " {'Happy': 0.0, 'Angry': 0.0, 'Surprise': 0.0, 'Sad': 0.0, 'Fear': 1.0}\n",
      " Fear\n",
      "Ob-la-di, ob-la-da (la-la-la-la la-la-)\n",
      " {'Happy': 0, 'Angry': 0, 'Surprise': 0, 'Sad': 0, 'Fear': 0}\n",
      " Neutral\n",
      "Life goes on, bra (la-la la-la-la-laaa)\n",
      " {'Happy': 0.0, 'Angry': 0.0, 'Surprise': 0.0, 'Sad': 0.0, 'Fear': 1.0}\n",
      " Fear\n",
      "La-la, how the life goes on\n",
      " {'Happy': 0.0, 'Angry': 0.0, 'Surprise': 0.0, 'Sad': 0.0, 'Fear': 1.0}\n",
      " Fear\n",
      "Yeah\n",
      " {'Happy': 0, 'Angry': 0, 'Surprise': 0, 'Sad': 0, 'Fear': 0}\n",
      " Neutral\n",
      "In a couple of years\n",
      " {'Happy': 0, 'Angry': 0, 'Surprise': 0, 'Sad': 0, 'Fear': 0}\n",
      " Neutral\n",
      "They have built a home sweet home\n",
      " {'Happy': 0.0, 'Angry': 0.0, 'Surprise': 0.0, 'Sad': 0.67, 'Fear': 0.33}\n",
      " Sad\n",
      "With a couple of kids running in the yard\n",
      " {'Happy': 1.0, 'Angry': 0.0, 'Surprise': 0.0, 'Sad': 0.0, 'Fear': 0.0}\n",
      " Happy\n",
      "Of Desmond and Molly Jones (ha ha ha ha)\n",
      " {'Happy': 0, 'Angry': 0, 'Surprise': 0, 'Sad': 0, 'Fear': 0}\n",
      " Neutral\n",
      "Happy ever after in the market place\n",
      " {'Happy': 0.25, 'Angry': 0.0, 'Surprise': 0.25, 'Sad': 0.0, 'Fear': 0.5}\n",
      " Neutral\n",
      "Desmond lets the children lend a hand (arm!) (leg!)\n",
      " {'Happy': 0.0, 'Angry': 0.0, 'Surprise': 0.0, 'Sad': 1.0, 'Fear': 0.0}\n",
      " Sad\n",
      "Molly stays at home and does her pretty face\n",
      " {'Happy': 0.33, 'Angry': 0.33, 'Surprise': 0.0, 'Sad': 0.33, 'Fear': 0.0}\n",
      " Neutral\n",
      "And in the evening she still sings it with the band\n",
      " {'Happy': 0.0, 'Angry': 0.0, 'Surprise': 0.0, 'Sad': 0.0, 'Fear': 1.0}\n",
      " Fear\n",
      "Yes!\n",
      " {'Happy': 0.0, 'Angry': 0.0, 'Surprise': 0.0, 'Sad': 1.0, 'Fear': 0.0}\n",
      " Sad\n",
      "Ob-la-di, ob-la-da\n",
      " {'Happy': 0, 'Angry': 0, 'Surprise': 0, 'Sad': 0, 'Fear': 0}\n",
      " Neutral\n",
      "Life goes on, bra\n",
      " {'Happy': 0.0, 'Angry': 0.0, 'Surprise': 0.0, 'Sad': 0.0, 'Fear': 1.0}\n",
      " Fear\n",
      "La-la, how the life goes on\n",
      " {'Happy': 0.0, 'Angry': 0.0, 'Surprise': 0.0, 'Sad': 0.0, 'Fear': 1.0}\n",
      " Fear\n",
      "Hey!\n",
      " {'Happy': 0.0, 'Angry': 0.0, 'Surprise': 1.0, 'Sad': 0.0, 'Fear': 0.0}\n",
      " Surprise\n",
      "Ob-la-di, ob-la-da\n",
      " {'Happy': 0, 'Angry': 0, 'Surprise': 0, 'Sad': 0, 'Fear': 0}\n",
      " Neutral\n",
      "Life goes on, bra\n",
      " {'Happy': 0.0, 'Angry': 0.0, 'Surprise': 0.0, 'Sad': 0.0, 'Fear': 1.0}\n",
      " Fear\n",
      "La-la, how the life goes on\n",
      " {'Happy': 0.0, 'Angry': 0.0, 'Surprise': 0.0, 'Sad': 0.0, 'Fear': 1.0}\n",
      " Fear\n",
      "In a couple of years\n",
      " {'Happy': 0, 'Angry': 0, 'Surprise': 0, 'Sad': 0, 'Fear': 0}\n",
      " Neutral\n",
      "They have built a home sweet home (home: H-O-M-E)\n",
      " {'Happy': 0.0, 'Angry': 0.0, 'Surprise': 0.0, 'Sad': 0.75, 'Fear': 0.25}\n",
      " Sad\n",
      "With a couple of kids running in the yard\n",
      " {'Happy': 1.0, 'Angry': 0.0, 'Surprise': 0.0, 'Sad': 0.0, 'Fear': 0.0}\n",
      " Happy\n",
      "Of Desmond and Molly Jones (ha ha ha ha ha ha ha)\n",
      " {'Happy': 0, 'Angry': 0, 'Surprise': 0, 'Sad': 0, 'Fear': 0}\n",
      " Neutral\n",
      "Hey!\n",
      " {'Happy': 0.0, 'Angry': 0.0, 'Surprise': 1.0, 'Sad': 0.0, 'Fear': 0.0}\n",
      " Surprise\n",
      "Happy ever after in the market place\n",
      " {'Happy': 0.25, 'Angry': 0.0, 'Surprise': 0.25, 'Sad': 0.0, 'Fear': 0.5}\n",
      " Neutral\n",
      "Molly lets the children lend a hand (foot!)\n",
      " {'Happy': 0.0, 'Angry': 0.0, 'Surprise': 0.0, 'Sad': 1.0, 'Fear': 0.0}\n",
      " Sad\n",
      "Desmond stays at home and does his pretty face\n",
      " {'Happy': 0.33, 'Angry': 0.33, 'Surprise': 0.0, 'Sad': 0.33, 'Fear': 0.0}\n",
      " Neutral\n",
      "And in the evening she's a singer with the band\n",
      " {'Happy': 0.0, 'Angry': 0.0, 'Surprise': 0.0, 'Sad': 0.0, 'Fear': 1.0}\n",
      " Fear\n",
      "Yeah!\n",
      " {'Happy': 0, 'Angry': 0, 'Surprise': 0, 'Sad': 0, 'Fear': 0}\n",
      " Neutral\n",
      "Ob-la-di, ob-la-da\n",
      " {'Happy': 0, 'Angry': 0, 'Surprise': 0, 'Sad': 0, 'Fear': 0}\n",
      " Neutral\n",
      "Life goes on, bra\n",
      " {'Happy': 0.0, 'Angry': 0.0, 'Surprise': 0.0, 'Sad': 0.0, 'Fear': 1.0}\n",
      " Fear\n",
      "La-la, how the life goes on\n",
      " {'Happy': 0.0, 'Angry': 0.0, 'Surprise': 0.0, 'Sad': 0.0, 'Fear': 1.0}\n",
      " Fear\n",
      "Hey!\n",
      " {'Happy': 0.0, 'Angry': 0.0, 'Surprise': 1.0, 'Sad': 0.0, 'Fear': 0.0}\n",
      " Surprise\n",
      "Ob-la-di, ob-la-da\n",
      " {'Happy': 0, 'Angry': 0, 'Surprise': 0, 'Sad': 0, 'Fear': 0}\n",
      " Neutral\n",
      "Life goes on, bra\n",
      " {'Happy': 0.0, 'Angry': 0.0, 'Surprise': 0.0, 'Sad': 0.0, 'Fear': 1.0}\n",
      " Fear\n",
      "La-la, how the life goes on (ha ha ha ha)\n",
      " {'Happy': 0.0, 'Angry': 0.0, 'Surprise': 0.0, 'Sad': 0.0, 'Fear': 1.0}\n",
      " Fear\n",
      "And if you want some fun (ha ha ha ha ha ha ha)\n",
      " {'Happy': 1.0, 'Angry': 0.0, 'Surprise': 0.0, 'Sad': 0.0, 'Fear': 0.0}\n",
      " Happy\n",
      "Take Ob-la-di-bla-da (ha ha ha ha ha ha ha ha)\n",
      " {'Happy': 0, 'Angry': 0, 'Surprise': 0, 'Sad': 0, 'Fear': 0}\n",
      " Neutral\n",
      "(Ha ha ha ha)\n",
      " {'Happy': 0, 'Angry': 0, 'Surprise': 0, 'Sad': 0, 'Fear': 0}\n",
      " Neutral\n",
      "Ahh...\n",
      " {'Happy': 0, 'Angry': 0, 'Surprise': 0, 'Sad': 0, 'Fear': 0}\n",
      " Neutral\n",
      "Thank you (ha ha)\n",
      " {'Happy': 0, 'Angry': 0, 'Surprise': 0, 'Sad': 0, 'Fear': 0}\n",
      " Neutral\n"
     ]
    }
   ],
   "source": [
    "file1 = open('ob-la-di_ob-la-da.txt', 'r')\n",
    "\n",
    "happy = 0;\n",
    "angry = 0;\n",
    "surprise = 0;\n",
    "sad = 0;\n",
    "fear = 0;\n",
    "neu = 0;\n",
    "lines = 0;\n",
    " \n",
    "# Rating each line\n",
    "for line in file1:\n",
    "    b = line.strip()\n",
    "    score = te.get_emotion(b)\n",
    "    if b != \"\" :\n",
    "        lines += 1\n",
    "        print(\"{}\\n {}\".format(b, score))\n",
    "    \n",
    "        # depending on trends throughout files, I may adjust these markers (0.5 and -0.5)\n",
    "        # I say 0.5 in case two sentiments are shown in equal parts.\n",
    "    \n",
    "        if score['Happy'] > 0.5 :\n",
    "            print(\" Happy\")\n",
    "            happy += 1\n",
    " \n",
    "        elif score['Angry'] > 0.5 :\n",
    "            print(\" Angry\")\n",
    "            angry += 1\n",
    " \n",
    "        elif score['Surprise'] > 0.5 :\n",
    "            print(\" Surprise\")\n",
    "            surprise += 1\n",
    "            \n",
    "        elif score['Sad'] > 0.5 :\n",
    "            print(\" Sad\")\n",
    "            sad += 1\n",
    "            \n",
    "        elif score['Fear'] > 0.5 :\n",
    "            print(\" Fear\")\n",
    "            fear += 1\n",
    "        \n",
    "        else :\n",
    "            print(\" Neutral\")\n",
    "            neu += 1\n",
    " \n",
    "# Closing file(s)\n",
    "file1.close()"
   ]
  },
  {
   "cell_type": "code",
   "execution_count": 3,
   "metadata": {},
   "outputs": [
    {
     "data": {
      "image/png": "[encoded data removed]",
      "text/plain": [
       "<Figure size 432x288 with 1 Axes>"
      ]
     },
     "metadata": {
      "needs_background": "light"
     },
     "output_type": "display_data"
    }
   ],
   "source": [
    "fig = plt.figure()\n",
    "ax = fig.add_axes([0,0,1,1])\n",
    "lbls = ['Happy', 'Angry', 'Surprise', 'Sad', 'Fear', 'Neutral']\n",
    "compounds = [happy, angry, surprise, sad, fear, neu]\n",
    "ax.bar(lbls, compounds)\n",
    "ax.set_title('\"Ob-La-Di, Ob-La-Da\" Line By Line Sentiment Analysis using Text2Emotion')\n",
    "ax.set_yticks(np.arange(0, lines, 5))\n",
    "ax.grid(axis='y')\n",
    "plt.show()"
   ]
  },
  {
   "cell_type": "code",
   "execution_count": 4,
   "metadata": {},
   "outputs": [],
   "source": [
    "# The following code calculates the total emotion throughout the song\n",
    "file1 = open('ob-la-di_ob-la-da.txt', 'r')\n",
    "\n",
    "emotion = np.zeros((5, lines + 1), dtype=float) # a 5x15 array (5 emotions, 0:14 lines)\n",
    "\n",
    "lines = 0\n",
    "vec = [0,0,0,0,0]; \n",
    "\n",
    "for line in file1:\n",
    "    b = line.strip()\n",
    "    score = te.get_emotion(b)\n",
    "    \n",
    "    if b != '' :\n",
    "        lines += 1\n",
    "        \n",
    "        # add polarity scores of all lines to evaluate song as a whole later\n",
    "        vec = [vec[0] + score['Happy'], vec[1] + score['Angry'], vec[2] + score['Surprise'], vec[3] + score['Sad'], vec[4] + score['Fear']]\n",
    "    \n",
    "        # evaluate song using equation similar to net sentiment rate\n",
    "        for i in range(5) :\n",
    "                emotion[i, lines] = vec[i] / lines\n",
    "    \n",
    "# Closing file(s)\n",
    "file1.close()"
   ]
  },
  {
   "cell_type": "code",
   "execution_count": 5,
   "metadata": {},
   "outputs": [
    {
     "name": "stdout",
     "output_type": "stream",
     "text": [
      "[4.16, 0.66, 7.5, 5.08, 21.58]\n"
     ]
    }
   ],
   "source": [
    "print(vec) # the final sums of each emotion [Happy, Angry, Surprise, Sad, Fear]"
   ]
  },
  {
   "cell_type": "code",
   "execution_count": 6,
   "metadata": {},
   "outputs": [
    {
     "name": "stdout",
     "output_type": "stream",
     "text": [
      "4\n"
     ]
    }
   ],
   "source": [
    "print(vec.index(max(vec))) # the greatest emotion in Ob-La-Di, Ob-La-Da is Fear"
   ]
  },
  {
   "cell_type": "code",
   "execution_count": 7,
   "metadata": {},
   "outputs": [
    {
     "data": {
      "image/png": "[encoded data removed]",
      "text/plain": [
       "<Figure size 432x288 with 1 Axes>"
      ]
     },
     "metadata": {
      "needs_background": "light"
     },
     "output_type": "display_data"
    }
   ],
   "source": [
    "# increase of emotions throughout reading the song\n",
    "plt.plot(emotion[0], label = 'Happy')\n",
    "plt.plot(emotion[1], label = 'Angry')\n",
    "plt.plot(emotion[2], label = 'Surprise')\n",
    "plt.plot(emotion[3], label = 'Sad')\n",
    "plt.plot(emotion[4], label = 'Fear')\n",
    "plt.title('Emotion Levels Through \"Ob-La-Di, Ob-La-Da\" (Text2Emotion)')\n",
    "plt.xlabel('Line')\n",
    "plt.ylabel('Sum Emotion Rating')\n",
    "plt.legend()\n",
    "plt.grid(True)\n",
    "plt.show()"
   ]
  },
  {
   "cell_type": "code",
   "execution_count": null,
   "metadata": {},
   "outputs": [],
   "source": []
  }
 ],
 "metadata": {
  "kernelspec": {
   "display_name": "Python 3",
   "language": "python",
   "name": "python3"
  },
  "language_info": {
   "codemirror_mode": {
    "name": "ipython",
    "version": 3
   },
   "file_extension": ".py",
   "mimetype": "text/x-python",
   "name": "python",
   "nbconvert_exporter": "python",
   "pygments_lexer": "ipython3",
   "version": "3.8.5"
  }
 },
 "nbformat": 4,
 "nbformat_minor": 4
}
