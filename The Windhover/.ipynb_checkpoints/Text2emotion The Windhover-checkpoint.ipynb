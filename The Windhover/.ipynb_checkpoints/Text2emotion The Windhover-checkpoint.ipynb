{
 "cells": [
  {
   "cell_type": "code",
   "execution_count": 1,
   "metadata": {},
   "outputs": [
    {
     "name": "stderr",
     "output_type": "stream",
     "text": [
      "[nltk_data] Downloading package stopwords to\n",
      "[nltk_data]     C:\\Users\\bward\\AppData\\Roaming\\nltk_data...\n",
      "[nltk_data]   Package stopwords is already up-to-date!\n",
      "[nltk_data] Downloading package punkt to\n",
      "[nltk_data]     C:\\Users\\bward\\AppData\\Roaming\\nltk_data...\n",
      "[nltk_data]   Package punkt is already up-to-date!\n",
      "[nltk_data] Downloading package wordnet to\n",
      "[nltk_data]     C:\\Users\\bward\\AppData\\Roaming\\nltk_data...\n",
      "[nltk_data]   Package wordnet is already up-to-date!\n"
     ]
    }
   ],
   "source": [
    "import pandas as pd\n",
    "import numpy as np\n",
    "import matplotlib.pyplot as plt\n",
    "import text2emotion as te"
   ]
  },
  {
   "cell_type": "markdown",
   "metadata": {},
   "source": [
    "I test Text2Emotion with a simple sentence."
   ]
  },
  {
   "cell_type": "code",
   "execution_count": 2,
   "metadata": {},
   "outputs": [
    {
     "name": "stdout",
     "output_type": "stream",
     "text": [
      "{'Happy': 1.0, 'Angry': 0.0, 'Surprise': 0.0, 'Sad': 0.0, 'Fear': 0.0}\n"
     ]
    }
   ],
   "source": [
    "text = \"I enjoyed today.\"\n",
    "print(te.get_emotion(text))"
   ]
  },
  {
   "cell_type": "code",
   "execution_count": 3,
   "metadata": {},
   "outputs": [
    {
     "name": "stdout",
     "output_type": "stream",
     "text": [
      "I caught this morning morning's minion, king-\n",
      " {'Happy': 0, 'Angry': 0, 'Surprise': 0, 'Sad': 0, 'Fear': 0}\n",
      " Neutral\n",
      "dom of daylight's dauphin, dapple-dawn-drawn Falcon, in his riding\n",
      " {'Happy': 0, 'Angry': 0, 'Surprise': 0, 'Sad': 0, 'Fear': 0}\n",
      " Neutral\n",
      "Of the rolling level underneath him steady air, and striding\n",
      " {'Happy': 0, 'Angry': 0, 'Surprise': 0, 'Sad': 0, 'Fear': 0}\n",
      " Neutral\n",
      "High there, how he rung upon the rein of a wimpling wing\n",
      " {'Happy': 0.0, 'Angry': 0.0, 'Surprise': 0.0, 'Sad': 0.0, 'Fear': 1.0}\n",
      " Fear\n",
      "In his ecstasy! then off, off forth on swing,\n",
      " {'Happy': 0.0, 'Angry': 0.0, 'Surprise': 0.0, 'Sad': 0.5, 'Fear': 0.5}\n",
      " Neutral\n",
      "As a skate's heel sweeps smooth on a bow-bend: the hurl and gliding\n",
      " {'Happy': 0.0, 'Angry': 1.0, 'Surprise': 0.0, 'Sad': 0.0, 'Fear': 0.0}\n",
      " Angry\n",
      "Rebuffed the big wind. My heart in hiding\n",
      " {'Happy': 0.0, 'Angry': 0.67, 'Surprise': 0.0, 'Sad': 0.33, 'Fear': 0.0}\n",
      " Angry\n",
      "Stirred for a bird, â€“ the achieve of, the mastery of the thing!\n",
      " {'Happy': 0.0, 'Angry': 0.33, 'Surprise': 0.33, 'Sad': 0.33, 'Fear': 0.0}\n",
      " Neutral\n",
      "Brute beauty and valour and act, oh, air, pride, plume, here\n",
      " {'Happy': 1.0, 'Angry': 0.0, 'Surprise': 0.0, 'Sad': 0.0, 'Fear': 0.0}\n",
      " Happy\n",
      "Buckle! AND the fire that breaks from thee then, a billion\n",
      " {'Happy': 0.0, 'Angry': 0.0, 'Surprise': 0.5, 'Sad': 0.0, 'Fear': 0.5}\n",
      " Neutral\n",
      "Times told lovelier, more dangerous, O my chevalier!\n",
      " {'Happy': 0.0, 'Angry': 0.0, 'Surprise': 0.0, 'Sad': 0.5, 'Fear': 0.5}\n",
      " Neutral\n",
      "No wonder of it: shÃ©er plÃ³d makes plough down sillion\n",
      " {'Happy': 0.0, 'Angry': 0.33, 'Surprise': 0.33, 'Sad': 0.33, 'Fear': 0.0}\n",
      " Neutral\n",
      "Shine, and blue-bleak embers, ah my dear,\n",
      " {'Happy': 0.0, 'Angry': 0.0, 'Surprise': 1.0, 'Sad': 0.0, 'Fear': 0.0}\n",
      " Surprise\n",
      "Fall, gall themselves, and gash gold-vermilion.\n",
      " {'Happy': 0.0, 'Angry': 0.0, 'Surprise': 0.0, 'Sad': 1.0, 'Fear': 0.0}\n",
      " Sad\n"
     ]
    }
   ],
   "source": [
    "file1 = open('the_windhover.txt', 'r')\n",
    "\n",
    "happy = 0;\n",
    "angry = 0;\n",
    "surprise = 0;\n",
    "sad = 0;\n",
    "fear = 0;\n",
    "neu = 0;\n",
    "lines = 0;\n",
    " \n",
    "# Rating each line\n",
    "for line in file1:\n",
    "    b = line.strip()\n",
    "    score = te.get_emotion(b)\n",
    "    if b != \"\" :\n",
    "        lines += 1\n",
    "        print(\"{}\\n {}\".format(b, score))\n",
    "    \n",
    "        # depending on trends throughout files, I may adjust these markers (0.51 and -0.51)\n",
    "        # I say 0.51 in case two sentiments are shown in equal parts.\n",
    "    \n",
    "        if score['Happy'] >= 0.51 :\n",
    "            print(\" Happy\")\n",
    "            happy += 1\n",
    " \n",
    "        elif score['Angry'] >= 0.51 :\n",
    "            print(\" Angry\")\n",
    "            angry += 1\n",
    " \n",
    "        elif score['Surprise'] >= 0.51 :\n",
    "            print(\" Surprise\")\n",
    "            surprise += 1\n",
    "            \n",
    "        elif score['Sad'] >= 0.51 :\n",
    "            print(\" Sad\")\n",
    "            sad += 1\n",
    "            \n",
    "        elif score['Fear'] >= 0.51 :\n",
    "            print(\" Fear\")\n",
    "            fear += 1\n",
    "        \n",
    "        else :\n",
    "            print(\" Neutral\")\n",
    "            neu += 1\n",
    " \n",
    "# Closing file(s)\n",
    "file1.close()"
   ]
  },
  {
   "cell_type": "code",
   "execution_count": 4,
   "metadata": {},
   "outputs": [
    {
     "name": "stdout",
     "output_type": "stream",
     "text": [
      "1 2 1 1 1 8\n"
     ]
    }
   ],
   "source": [
    "print(happy, angry, surprise, sad, fear, neu)"
   ]
  },
  {
   "cell_type": "code",
   "execution_count": 5,
   "metadata": {},
   "outputs": [
    {
     "data": {
      "image/png": "[encoded data removed]",
      "text/plain": [
       "<Figure size 432x288 with 1 Axes>"
      ]
     },
     "metadata": {
      "needs_background": "light"
     },
     "output_type": "display_data"
    }
   ],
   "source": [
    "fig = plt.figure()\n",
    "ax = fig.add_axes([0,0,1,1])\n",
    "lbls = ['Happy', 'Angry', 'Surprise', 'Sad', 'Fear', 'Neutral']\n",
    "compounds = [happy, angry, surprise, sad, fear, neu]\n",
    "ax.bar(lbls, compounds)\n",
    "ax.set_title('The Windhover Line By Line Sentiment Analysis using Text2Emotion')\n",
    "ax.set_yticks(np.arange(0, 11, 1))\n",
    "plt.show()"
   ]
  },
  {
   "cell_type": "code",
   "execution_count": 6,
   "metadata": {},
   "outputs": [],
   "source": [
    "# The following code calculates the total emotion throughout the poem\n",
    "file1 = open('the_windhover.txt', 'r')\n",
    "\n",
    "emotion = np.zeros((5, lines + 1), dtype=float) # a 5x15 array (5 emotions, 0:14 lines)\n",
    "\n",
    "lines = 0\n",
    "vec = [0,0,0,0,0]; \n",
    "\n",
    "for line in file1:\n",
    "    b = line.strip()\n",
    "    score = te.get_emotion(b)\n",
    "    \n",
    "    if b != '' :\n",
    "        lines += 1\n",
    "        \n",
    "        # add polarity scores of all lines to evaluate poem as a whole later\n",
    "        vec = [vec[0] + score['Happy'], vec[1] + score['Angry'], vec[2] + score['Surprise'], vec[3] + score['Sad'], vec[4] + score['Fear']]\n",
    "    \n",
    "        # evaluate poem using equation similar to net sentiment rate\n",
    "        for i in range(5) :\n",
    "                emotion[i, lines] = vec[i] / lines\n",
    "    \n",
    "# Closing file(s)\n",
    "file1.close()"
   ]
  },
  {
   "cell_type": "code",
   "execution_count": 7,
   "metadata": {},
   "outputs": [
    {
     "name": "stdout",
     "output_type": "stream",
     "text": [
      "[1.0, 2.33, 2.16, 2.99, 2.5]\n"
     ]
    }
   ],
   "source": [
    "print(vec) # the final sums of each emotion [Happy, Angry, Surprise, Sad, Fear]"
   ]
  },
  {
   "cell_type": "code",
   "execution_count": 8,
   "metadata": {},
   "outputs": [
    {
     "name": "stdout",
     "output_type": "stream",
     "text": [
      "3\n"
     ]
    }
   ],
   "source": [
    "print(vec.index(max(vec))) # the greatest emotion in The Windhover is Sadness"
   ]
  },
  {
   "cell_type": "code",
   "execution_count": 9,
   "metadata": {},
   "outputs": [
    {
     "data": {
      "image/png": "[encoded data removed]",
      "text/plain": [
       "<Figure size 432x288 with 1 Axes>"
      ]
     },
     "metadata": {
      "needs_background": "light"
     },
     "output_type": "display_data"
    }
   ],
   "source": [
    "# increase of emotions throughout reading the poem\n",
    "plt.plot(emotion[0], label = 'Happy')\n",
    "plt.plot(emotion[1], label = 'Angry')\n",
    "plt.plot(emotion[2], label = 'Surprise')\n",
    "plt.plot(emotion[3], label = 'Sad')\n",
    "plt.plot(emotion[4], label = 'Fear')\n",
    "plt.title('Emotion Levels Through The Windhover')\n",
    "plt.xlabel('Line')\n",
    "plt.ylabel('Sum Emotion Rating')\n",
    "plt.legend()\n",
    "plt.show()"
   ]
  },
  {
   "cell_type": "code",
   "execution_count": null,
   "metadata": {},
   "outputs": [],
   "source": []
  }
 ],
 "metadata": {
  "kernelspec": {
   "display_name": "Python 3",
   "language": "python",
   "name": "python3"
  },
  "language_info": {
   "codemirror_mode": {
    "name": "ipython",
    "version": 3
   },
   "file_extension": ".py",
   "mimetype": "text/x-python",
   "name": "python",
   "nbconvert_exporter": "python",
   "pygments_lexer": "ipython3",
   "version": "3.8.5"
  }
 },
 "nbformat": 4,
 "nbformat_minor": 4
}
