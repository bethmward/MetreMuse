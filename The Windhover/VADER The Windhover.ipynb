{
 "cells": [
  {
   "cell_type": "code",
   "execution_count": 1,
   "metadata": {},
   "outputs": [],
   "source": [
    "import pandas as pd\n",
    "import numpy as np\n",
    "import matplotlib.pyplot as plt\n",
    "import nltk"
   ]
  },
  {
   "cell_type": "code",
   "execution_count": 2,
   "metadata": {},
   "outputs": [],
   "source": [
    "from nltk.sentiment.vader import SentimentIntensityAnalyzer\n",
    "\n",
    "sid = SentimentIntensityAnalyzer()"
   ]
  },
  {
   "cell_type": "markdown",
   "metadata": {},
   "source": [
    "I test VADER with a simple sentence to determine initial polarity boundaries using compound result."
   ]
  },
  {
   "cell_type": "code",
   "execution_count": 3,
   "metadata": {},
   "outputs": [
    {
     "name": "stdout",
     "output_type": "stream",
     "text": [
      "{'neg': 0.0, 'neu': 0.233, 'pos': 0.767, 'compound': 0.5106}\n"
     ]
    }
   ],
   "source": [
    "a = 'I enjoyed today.'\n",
    "print(sid.polarity_scores(a))"
   ]
  },
  {
   "cell_type": "code",
   "execution_count": 4,
   "metadata": {},
   "outputs": [
    {
     "name": "stdout",
     "output_type": "stream",
     "text": [
      "I caught this morning morning's minion, king-\n",
      " {'neg': 0.0, 'neu': 1.0, 'pos': 0.0, 'compound': 0.0}\n",
      " Neutral\n",
      "dom of daylight's dauphin, dapple-dawn-drawn Falcon, in his riding\n",
      " {'neg': 0.0, 'neu': 1.0, 'pos': 0.0, 'compound': 0.0}\n",
      " Neutral\n",
      "Of the rolling level underneath him steady air, and striding\n",
      " {'neg': 0.0, 'neu': 1.0, 'pos': 0.0, 'compound': 0.0}\n",
      " Neutral\n",
      "High there, how he rung upon the rein of a wimpling wing\n",
      " {'neg': 0.0, 'neu': 1.0, 'pos': 0.0, 'compound': 0.0}\n",
      " Neutral\n",
      "In his ecstasy! then off, off forth on swing,\n",
      " {'neg': 0.0, 'neu': 0.656, 'pos': 0.344, 'compound': 0.636}\n",
      " Positive\n",
      "As a skate's heel sweeps smooth on a bow-bend: the hurl and gliding\n",
      " {'neg': 0.0, 'neu': 1.0, 'pos': 0.0, 'compound': 0.0}\n",
      " Neutral\n",
      "Rebuffed the big wind. My heart in hiding\n",
      " {'neg': 0.239, 'neu': 0.761, 'pos': 0.0, 'compound': -0.296}\n",
      " Negative\n",
      "Stirred for a bird, â€“ the achieve of, the mastery of the thing!\n",
      " {'neg': 0.0, 'neu': 1.0, 'pos': 0.0, 'compound': 0.0}\n",
      " Neutral\n",
      "Brute beauty and valour and act, oh, air, pride, plume, here\n",
      " {'neg': 0.0, 'neu': 0.592, 'pos': 0.408, 'compound': 0.7351}\n",
      " Positive\n",
      "Buckle! AND the fire that breaks from thee then, a billion\n",
      " {'neg': 0.23, 'neu': 0.77, 'pos': 0.0, 'compound': -0.4003}\n",
      " Negative\n",
      "Times told lovelier, more dangerous, O my chevalier!\n",
      " {'neg': 0.38, 'neu': 0.62, 'pos': 0.0, 'compound': -0.5697}\n",
      " Negative\n",
      "No wonder of it: shÃ©er plÃ³d makes plough down sillion\n",
      " {'neg': 0.196, 'neu': 0.804, 'pos': 0.0, 'compound': -0.296}\n",
      " Negative\n",
      "Shine, and blue-bleak embers, ah my dear,\n",
      " {'neg': 0.0, 'neu': 0.698, 'pos': 0.302, 'compound': 0.3818}\n",
      " Positive\n",
      "Fall, gall themselves, and gash gold-vermilion.\n",
      " {'neg': 0.0, 'neu': 1.0, 'pos': 0.0, 'compound': 0.0}\n",
      " Neutral\n"
     ]
    }
   ],
   "source": [
    "file1 = open('the_windhover.txt', 'r')\n",
    "\n",
    "pos = 0;\n",
    "neg = 0;\n",
    "neu = 0;\n",
    "lines = 0;\n",
    " \n",
    "# Rating each line\n",
    "for line in file1:\n",
    "    b = line.strip()\n",
    "    score = sid.polarity_scores(b)\n",
    "    \n",
    "    if b != \"\" :\n",
    "        lines += 1\n",
    "        print(\"{}\\n {}\".format(b, score))\n",
    "    \n",
    "        # depending on trends throughout files, I may adjust these markers (0.5 and -0.5)\n",
    "    \n",
    "        if score['compound'] >= 0.2 :\n",
    "            print(\" Positive\")\n",
    "            pos += 1\n",
    " \n",
    "        elif score['compound'] <= - 0.2 :\n",
    "            print(\" Negative\")\n",
    "            neg += 1\n",
    " \n",
    "        else :\n",
    "            print(\" Neutral\")\n",
    "            neu += 1\n",
    "\n",
    "# Closing file(s)\n",
    "file1.close()"
   ]
  },
  {
   "cell_type": "code",
   "execution_count": 5,
   "metadata": {},
   "outputs": [
    {
     "name": "stdout",
     "output_type": "stream",
     "text": [
      "4 7 3\n"
     ]
    }
   ],
   "source": [
    "print(neg, neu, pos)"
   ]
  },
  {
   "cell_type": "code",
   "execution_count": 6,
   "metadata": {},
   "outputs": [
    {
     "data": {
      "image/png": "[encoded data removed]",
      "text/plain": [
       "<Figure size 432x288 with 1 Axes>"
      ]
     },
     "metadata": {
      "needs_background": "light"
     },
     "output_type": "display_data"
    }
   ],
   "source": [
    "fig = plt.figure()\n",
    "ax = fig.add_axes([0,0,1,1])\n",
    "lbls = ['Negative', 'Neutral', 'Positive']\n",
    "compounds = [neg, neu, pos]\n",
    "ax.bar(lbls, compounds)\n",
    "ax.set_title('The Windhover Line By Line Sentiment Analysis using VADER')\n",
    "ax.set_yticks(np.arange(0, 11, 1))\n",
    "plt.show()"
   ]
  },
  {
   "cell_type": "code",
   "execution_count": 7,
   "metadata": {},
   "outputs": [],
   "source": [
    "# The following code calculates the net sentiment rate of the poem overall, rather than considering it line by line\n",
    "file1 = open('the_windhover.txt', 'r')\n",
    "\n",
    "nsr = np.zeros(lines + 1, dtype=float) # a 1x15 array (0:14 lines)\n",
    "#print(nsr) # [0., 0., 0., 0., ...]\n",
    "#print(nsr[1]) # 0.0\n",
    "lines = 0\n",
    "vec = [0,0,0]; \n",
    "\n",
    "for line in file1:\n",
    "    b = line.strip()\n",
    "    score = sid.polarity_scores(b)\n",
    "    \n",
    "    if b != '' :\n",
    "        lines += 1\n",
    "        \n",
    "        # add polarity scores of all lines to evaluate poem as a whole later\n",
    "        vec = [vec[0] + score['neg'], vec[1] + score['neu'], vec[2] + score['pos']]\n",
    "    \n",
    "        # evaluate poem using net sentiment rate\n",
    "        nsr[lines] = (vec[2] - vec[0]) / lines\n",
    "    \n",
    "# Closing file(s)\n",
    "file1.close()"
   ]
  },
  {
   "cell_type": "code",
   "execution_count": 8,
   "metadata": {},
   "outputs": [
    {
     "name": "stdout",
     "output_type": "stream",
     "text": [
      "[1.045, 11.901, 1.054]\n"
     ]
    }
   ],
   "source": [
    "print(vec) # the total sum of polarities"
   ]
  },
  {
   "cell_type": "code",
   "execution_count": 9,
   "metadata": {},
   "outputs": [
    {
     "name": "stdout",
     "output_type": "stream",
     "text": [
      "0.0006428571428571514\n"
     ]
    }
   ],
   "source": [
    "print(nsr[14]) # the final calculation of net sentiment rate"
   ]
  },
  {
   "cell_type": "code",
   "execution_count": 11,
   "metadata": {},
   "outputs": [
    {
     "data": {
      "image/png": "[encoded data removed]",
      "text/plain": [
       "<Figure size 432x288 with 2 Axes>"
      ]
     },
     "metadata": {
      "needs_background": "light"
     },
     "output_type": "display_data"
    }
   ],
   "source": [
    "# I'm not sure whether to present this as projecting polarity (wavering but generally closer to neutral) \n",
    "# or intensity (fairly weak compared to min/max net sentiment rate)\n",
    "fig, (ax1, ax2) = plt.subplots(1, 2)\n",
    "ax1.set_title('Net Sentiment Rate Through The Windhover')\n",
    "ax2.set_title('Net Sentiment Rate Through The Windhover')\n",
    "ax1.plot(nsr, marker = 'x')\n",
    "ax2.plot(nsr, marker = 'x')\n",
    "ax1.set_xlabel('Line')\n",
    "ax2.set_xlabel('Line')\n",
    "ax1.set_ylabel('Net Sentiment Rate')\n",
    "ax2.set_ylabel('Net Sentiment Rate')\n",
    "ax1.set_xlim(0, 14)\n",
    "ax2.set_xlim(0, 14)\n",
    "ax1.set_ylim(-0.1, 0.1)\n",
    "ax2.set_ylim(-1, 1)\n",
    "ax1.grid(True)\n",
    "ax2.grid(True)\n",
    "plt.subplots_adjust(bottom=0, right=2, top=0.9);"
   ]
  },
  {
   "cell_type": "code",
   "execution_count": null,
   "metadata": {},
   "outputs": [],
   "source": []
  }
 ],
 "metadata": {
  "kernelspec": {
   "display_name": "Python 3",
   "language": "python",
   "name": "python3"
  },
  "language_info": {
   "codemirror_mode": {
    "name": "ipython",
    "version": 3
   },
   "file_extension": ".py",
   "mimetype": "text/x-python",
   "name": "python",
   "nbconvert_exporter": "python",
   "pygments_lexer": "ipython3",
   "version": "3.8.5"
  }
 },
 "nbformat": 4,
 "nbformat_minor": 4
}
