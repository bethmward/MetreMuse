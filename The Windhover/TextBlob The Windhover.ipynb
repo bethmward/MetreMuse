{
 "cells": [
  {
   "cell_type": "code",
   "execution_count": 1,
   "metadata": {},
   "outputs": [],
   "source": [
    "import pandas as pd\n",
    "import numpy as np\n",
    "import matplotlib.pyplot as plt\n",
    "from textblob import TextBlob"
   ]
  },
  {
   "cell_type": "markdown",
   "metadata": {},
   "source": [
    "I test TextBlob with a simple sentence to determine initial polarity boundaries using polarity result."
   ]
  },
  {
   "cell_type": "code",
   "execution_count": 4,
   "metadata": {},
   "outputs": [
    {
     "name": "stdout",
     "output_type": "stream",
     "text": [
      "Sentiment(polarity=0.5, subjectivity=0.7)\n"
     ]
    }
   ],
   "source": [
    "test = TextBlob(\"I enjoyed today.\")\n",
    "print(test.sentiment)"
   ]
  },
  {
   "cell_type": "code",
   "execution_count": 6,
   "metadata": {},
   "outputs": [
    {
     "name": "stdout",
     "output_type": "stream",
     "text": [
      "I caught this morning morning's minion, king-\n",
      " Sentiment(polarity=0.0, subjectivity=0.0)\n",
      " Neutral\n",
      "dom of daylight's dauphin, dapple-dawn-drawn Falcon, in his riding\n",
      " Sentiment(polarity=0.0, subjectivity=0.0)\n",
      " Neutral\n",
      "Of the rolling level underneath him steady air, and striding\n",
      " Sentiment(polarity=0.16666666666666666, subjectivity=0.5)\n",
      " Neutral\n",
      "High there, how he rung upon the rein of a wimpling wing\n",
      " Sentiment(polarity=0.16, subjectivity=0.5399999999999999)\n",
      " Neutral\n",
      "In his ecstasy! then off, off forth on swing,\n",
      " Sentiment(polarity=0.0, subjectivity=0.0)\n",
      " Neutral\n",
      "As a skate's heel sweeps smooth on a bow-bend: the hurl and gliding\n",
      " Sentiment(polarity=0.4, subjectivity=0.5)\n",
      " Neutral\n",
      "Rebuffed the big wind. My heart in hiding\n",
      " Sentiment(polarity=0.0, subjectivity=0.1)\n",
      " Neutral\n",
      "Stirred for a bird, â€“ the achieve of, the mastery of the thing!\n",
      " Sentiment(polarity=0.0, subjectivity=0.0)\n",
      " Neutral\n",
      "Brute beauty and valour and act, oh, air, pride, plume, here\n",
      " Sentiment(polarity=0.0, subjectivity=0.0)\n",
      " Neutral\n",
      "Buckle! AND the fire that breaks from thee then, a billion\n",
      " Sentiment(polarity=0.0, subjectivity=0.0)\n",
      " Neutral\n",
      "Times told lovelier, more dangerous, O my chevalier!\n",
      " Sentiment(polarity=-0.125, subjectivity=0.7)\n",
      " Neutral\n",
      "No wonder of it: shÃ©er plÃ³d makes plough down sillion\n",
      " Sentiment(polarity=-0.15555555555555559, subjectivity=0.2888888888888889)\n",
      " Neutral\n",
      "Shine, and blue-bleak embers, ah my dear,\n",
      " Sentiment(polarity=0.0, subjectivity=0.0)\n",
      " Neutral\n",
      "Fall, gall themselves, and gash gold-vermilion.\n",
      " Sentiment(polarity=0.0, subjectivity=0.0)\n",
      " Neutral\n"
     ]
    }
   ],
   "source": [
    "file1 = open('the_windhover.txt', 'r')\n",
    "\n",
    "pos = 0;\n",
    "neg = 0;\n",
    "neu = 0;\n",
    " \n",
    "# Rating each line\n",
    "for line in file1:\n",
    "    b = line.strip()\n",
    "    tb = TextBlob(b)\n",
    "    score = tb.sentiment\n",
    "    if b != \"\" :\n",
    "        print(\"{}\\n {}\".format(b, score))\n",
    "    \n",
    "        # depending on trends throughout files, I may adjust these markers (0.05 and -0.05)\n",
    "    \n",
    "        if tb.sentiment.polarity >= 0.5 :\n",
    "            print(\" Positive\")\n",
    "            pos += 1\n",
    " \n",
    "        elif tb.sentiment.polarity <= - 0.5 :\n",
    "            print(\" Negative\")\n",
    "            neg += 1\n",
    " \n",
    "        else :\n",
    "            print(\" Neutral\")\n",
    "            neu += 1\n",
    " \n",
    "# Closing file(s)\n",
    "file1.close()"
   ]
  },
  {
   "cell_type": "code",
   "execution_count": 7,
   "metadata": {},
   "outputs": [
    {
     "name": "stdout",
     "output_type": "stream",
     "text": [
      "0 14 0\n"
     ]
    }
   ],
   "source": [
    "print(neg, neu, pos)"
   ]
  },
  {
   "cell_type": "code",
   "execution_count": 9,
   "metadata": {},
   "outputs": [
    {
     "data": {
      "image/png": "[encoded data removed]",
      "text/plain": [
       "<Figure size 432x288 with 1 Axes>"
      ]
     },
     "metadata": {
      "needs_background": "light"
     },
     "output_type": "display_data"
    }
   ],
   "source": [
    "fig = plt.figure()\n",
    "ax = fig.add_axes([0,0,1,1])\n",
    "lbls = ['Negative', 'Neutral', 'Positive']\n",
    "compounds = [neg, neu, pos]\n",
    "ax.bar(lbls, compounds)\n",
    "ax.set_title('The Windhover Line By Line Sentiment Analysis using TextBlob')\n",
    "ax.set_yticks(np.arange(0, 15, 1))\n",
    "plt.show()"
   ]
  },
  {
   "cell_type": "code",
   "execution_count": null,
   "metadata": {},
   "outputs": [],
   "source": []
  }
 ],
 "metadata": {
  "kernelspec": {
   "display_name": "Python 3",
   "language": "python",
   "name": "python3"
  },
  "language_info": {
   "codemirror_mode": {
    "name": "ipython",
    "version": 3
   },
   "file_extension": ".py",
   "mimetype": "text/x-python",
   "name": "python",
   "nbconvert_exporter": "python",
   "pygments_lexer": "ipython3",
   "version": "3.8.5"
  }
 },
 "nbformat": 4,
 "nbformat_minor": 4
}
