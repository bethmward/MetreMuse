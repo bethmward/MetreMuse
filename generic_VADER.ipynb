{
 "cells": [
  {
   "cell_type": "code",
   "execution_count": 1,
   "metadata": {},
   "outputs": [],
   "source": [
    "import os\n",
    "import pandas as pd\n",
    "import numpy as np\n",
    "import matplotlib.pyplot as plt\n",
    "import nltk\n",
    "from nltk.sentiment.vader import SentimentIntensityAnalyzer"
   ]
  },
  {
   "cell_type": "code",
   "execution_count": 2,
   "metadata": {},
   "outputs": [],
   "source": [
    "# put known details of the song or poem here. You must have the lines in a text file in the MetreMuse directory. \n",
    "filename = \"lyrics/deep_in_the_woods\"\n",
    "title = \"'Deep In The Woods\""
   ]
  },
  {
   "cell_type": "code",
   "execution_count": 3,
   "metadata": {},
   "outputs": [],
   "source": [
    "# This function outputs the Net Sentiment Rate (NSR) of the whole poem or song. \n",
    "def generic_vader(filename, title) :\n",
    "    \n",
    "    sid = SentimentIntensityAnalyzer()\n",
    "    \n",
    "    if filename.find(\".txt\") == -1:\n",
    "        filename = filename + \".txt\"\n",
    "    \n",
    "    file1 = open(filename, 'r')\n",
    "    \n",
    "    pos = 0\n",
    "    neg = 0\n",
    "    lines = 0\n",
    "    \n",
    "    # Adding each line's ratings\n",
    "    for line in file1:\n",
    "        b = line.strip()\n",
    "        score = sid.polarity_scores(b)\n",
    "    \n",
    "        if b != \"\" :\n",
    "            lines += 1\n",
    "        \n",
    "        pos += score['pos']\n",
    "        neg += score['neg']\n",
    "    \n",
    "    # Closing file(s)\n",
    "    file1.close() \n",
    "    \n",
    "    nsr = (pos - neg) / lines\n",
    "    print(\"Net Sentiment Rate of \" + title + \":\")\n",
    "    print(nsr)\n",
    "    print(\"\")\n",
    "    \n",
    "    return nsr"
   ]
  },
  {
   "cell_type": "code",
   "execution_count": 4,
   "metadata": {},
   "outputs": [
    {
     "name": "stdout",
     "output_type": "stream",
     "text": [
      "Net Sentiment Rate of Ariel:\n",
      "-0.06106451612903225\n",
      "\n",
      "Net Sentiment Rate of A Birthday:\n",
      "0.091375\n",
      "\n",
      "Net Sentiment Rate of Crossing The Water:\n",
      "0.028666666666666674\n",
      "\n",
      "Net Sentiment Rate of Daddy:\n",
      "-0.017725\n",
      "\n",
      "Net Sentiment Rate of Edge:\n",
      "-0.02400000000000002\n",
      "\n",
      "Net Sentiment Rate of How Much I Dislike The Daily Mail:\n",
      "0.01865384615384615\n",
      "\n",
      "Net Sentiment Rate of Lady Lazarus:\n",
      "0.046\n",
      "\n",
      "Net Sentiment Rate of Morning Song:\n",
      "0.049944444444444444\n",
      "\n",
      "Net Sentiment Rate of Poppies In October:\n",
      "0.07708333333333332\n",
      "\n",
      "Net Sentiment Rate of The Moon And The Yew Tree:\n",
      "-0.03689285714285714\n",
      "\n",
      "Net Sentiment Rate of This Be The Verse:\n",
      "-0.11783333333333335\n",
      "\n",
      "Net Sentiment Rate of Waking In Winter:\n",
      "-0.04518749999999999\n",
      "\n",
      "Net Sentiment Rate of You Re:\n",
      "0.12011111111111111\n",
      "\n"
     ]
    }
   ],
   "source": [
    "poetry = os.listdir('poetry/')\n",
    "vec = np.zeros(len(poetry)) # make a vector for NSR values to go into\n",
    "idx = 0\n",
    "\n",
    "for l in poetry :\n",
    "    filename = \"poetry/\" + l\n",
    "    l = l.replace(\".txt\", \"\")\n",
    "    l = l.replace(\"_\", \" \")\n",
    "    title = l.title()\n",
    "    vec[idx] = generic_vader(filename, title)\n",
    "    idx += 1"
   ]
  },
  {
   "cell_type": "code",
   "execution_count": null,
   "metadata": {},
   "outputs": [],
   "source": []
  }
 ],
 "metadata": {
  "kernelspec": {
   "display_name": "Python 3",
   "language": "python",
   "name": "python3"
  },
  "language_info": {
   "codemirror_mode": {
    "name": "ipython",
    "version": 3
   },
   "file_extension": ".py",
   "mimetype": "text/x-python",
   "name": "python",
   "nbconvert_exporter": "python",
   "pygments_lexer": "ipython3",
   "version": "3.8.5"
  }
 },
 "nbformat": 4,
 "nbformat_minor": 4
}
